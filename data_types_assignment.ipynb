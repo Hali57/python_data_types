{
  "nbformat": 4,
  "nbformat_minor": 0,
  "metadata": {
    "colab": {
      "provenance": [],
      "authorship_tag": "ABX9TyP4gTHUPUPUWHn7wj/VYpnI",
      "include_colab_link": true
    },
    "kernelspec": {
      "name": "python3",
      "display_name": "Python 3"
    },
    "language_info": {
      "name": "python"
    }
  },
  "cells": [
    {
      "cell_type": "markdown",
      "metadata": {
        "id": "view-in-github",
        "colab_type": "text"
      },
      "source": [
        "<a href=\"https://colab.research.google.com/github/Hali57/python_data_types/blob/main/data_types_assignment.ipynb\" target=\"_parent\"><img src=\"https://colab.research.google.com/assets/colab-badge.svg\" alt=\"Open In Colab\"/></a>"
      ]
    },
    {
      "cell_type": "code",
      "source": [
        "# Create an empty list called my_list\n",
        "my_list = []\n",
        "#append the following to the created list: 10, 20, 30,40\n",
        "my_list.append(10)\n",
        "my_list.append(20)\n",
        "my_list.append(30)\n",
        "my_list.append(40)\n",
        "\n",
        "#insert the value 15 at the second position of the list.\n",
        "my_list.insert(1,15)\n",
        "\n",
        "#extend my_list with [50,60,70]\n",
        "my_list.extend([50,60,70])\n",
        "\n",
        "#remove the last element from my_list\n",
        "my_list.pop()\n",
        "\n",
        "#sort my_list in ascending order\n",
        "my_list.sort()\n",
        "\n",
        "#find and print the index of value 30 in my_list\n",
        "position_of_30 = my_list.index(30)\n",
        "print(my_list)\n",
        "print(f\"The index position of the value 30 in my_list is: {position_of_30}\")"
      ],
      "metadata": {
        "colab": {
          "base_uri": "https://localhost:8080/"
        },
        "id": "9aVB8DBYnCJl",
        "outputId": "7b141b39-e972-4cd7-c543-9701db240104"
      },
      "execution_count": null,
      "outputs": [
        {
          "output_type": "stream",
          "name": "stdout",
          "text": [
            "[10, 15, 20, 30, 40, 50, 60]\n",
            "The index position of the value 30 in my_list is: 3\n"
          ]
        }
      ]
    }
  ]
}